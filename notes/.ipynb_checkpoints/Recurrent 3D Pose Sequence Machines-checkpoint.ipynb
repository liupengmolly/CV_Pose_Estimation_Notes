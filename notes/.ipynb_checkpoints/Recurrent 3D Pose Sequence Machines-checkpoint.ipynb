{
 "cells": [
  {
   "cell_type": "markdown",
   "metadata": {},
   "source": [
    "# Abstract \n",
    "**automatically learn the image-dependent structural constraint and sequence-dependent temporal context by using a multi-stage sequential refinement**    \n",
    "1. a 2D pose module extracting the image-dependent pose representations\n",
    "2. a 3D pose recurrent module regressing 3D poses \n",
    "3. a feature adaption module serving as bridge between 1 and 2 to enable the representation transformation from 2D to 3D domain.     \n",
    "\n",
    "# 1 Introduction    \n",
    "To resolve the challenges share with 2D and the 3D pose rescovery from monocular imagery,  a prefereable way is  to investigate how to simultaneously ** enforce 2D spatial relationship, 3D geometry constraint and temporal consistency within one single model**.    \n",
    "Inspired by the pose machine and CPM, our RPSM proposes a multi-stage training to capture long-range dependencies among multiple body-parts for 3d pose prediction.     \n",
    "Also include several stage, in each stage, RPSM is composed by **a 2D pose module**, **a feature adaption module** and **a 3D pose recurrent module**.     \n",
    "**Main Contribution**:   \n",
    "   * learns to recurrently integrate rich spatial and temporal long-range dependencies using a multi-stage sequential refinement, 而不使用人为定义的一些限制     \n",
    "   * 使用了recurrent network models\n",
    "\n",
    "#  2 Recurrent 3D Pose Sequence Machines\n",
    "   <img src=\"img/3D_RPSM.png\">"
   ]
  },
  {
   "cell_type": "markdown",
   "metadata": {},
   "source": [
    "## 2.1 Multi-stage Optimization     \n",
    "   <img src=\"img/3DRPSM_formulation.png\">     \n",
    "其中$W_p,W_a,W_r时\\Psi_p,\\Psi_a,\\Psi_r$的参数,$I_t$时t步的图片输入，$H_{t-1}^k$是3D pose recurrent module上一个隐藏层输出，$S_t^{k-1}$是上一层预测的3D pose 结果。     \n",
    "## 2.2 2D pose module\n",
    "Divide 2D pose module into two parts:\n",
    "   * the shared convolution layers\n",
    "   * the specialized pose-aware convolutio layers in each stage.     \n",
    "如下图2D pose module部分所示：    \n",
    "   <img src=\"img/3D_RPSM_detail.PNG\">"
   ]
  },
  {
   "cell_type": "markdown",
   "metadata": {},
   "source": [
    "## 2.3 Feature Adaption Module\n",
    "如上图中（b）部分所示，feature adaption module consisits of two convolutional layers and one fully connected layer.     \n",
    "## 2.4 3D Pose Recurrent Module\n",
    "如图（c)所示，the adapted features, the previous hidden states and the previous 3D pose predictions are concatenated together as the current input of 3D poses Recurrent module."
   ]
  },
  {
   "cell_type": "code",
   "execution_count": null,
   "metadata": {},
   "outputs": [],
   "source": []
  }
 ],
 "metadata": {
  "kernelspec": {
   "display_name": "Python 3",
   "language": "python",
   "name": "python3"
  },
  "language_info": {
   "codemirror_mode": {
    "name": "ipython",
    "version": 3
   },
   "file_extension": ".py",
   "mimetype": "text/x-python",
   "name": "python",
   "nbconvert_exporter": "python",
   "pygments_lexer": "ipython3",
   "version": "3.6.8"
  }
 },
 "nbformat": 4,
 "nbformat_minor": 2
}
