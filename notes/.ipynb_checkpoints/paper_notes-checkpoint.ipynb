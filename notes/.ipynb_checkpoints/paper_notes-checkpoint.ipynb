{
 "cells": [
  {
   "attachments": {},
   "cell_type": "markdown",
   "metadata": {},
   "source": [
    "# Face Detection, Pose Estimation and Landmark localization in the Wild\n",
    "\n",
    "## Abstract\n",
    "** tree-structured models are surprisingly effective at capturing global elastic deformation **\n",
    "## Introduction\n",
    "1. ** Ambiguities due to the unconstrainedd \"in the wild\" imagess **\n",
    "2. 一些传统方法：\n",
    "    * Face Detection: scanning window classifiers,\n",
    "    * Pos Estimation: view-based eigenspace methods\n",
    "    * Faciel landmark estimation: elastic graph models. global spatial models built on top of local part detectors(Known as Constrained Local Models)\n",
    "3. **The model based on a mixture of tree-structured part and max-margin models**  \n",
    "    * define a \"part\" at each facial landmark and use global mixtures to modle topological changes due to viewpoint;\n",
    "    * a part will only be visible in certain mixtrues/views, but different mixtures could share part templates.\n",
    "    * all parameter are trained in a max-margin framework.\n",
    "4. 大部分之前用于标识估计的模型都是densely-connected elastic graphs, 但不好优化，而multi-view trees 是一个好呢好的替代因为:\n",
    "    * 能使用动态规划全局优化\n",
    "    * 能捉取相关的全局弹性结构\n",
    "\n",
    "## Model\n",
    "### Tree Structured part Model\n",
    "<img src=\"img/parts_score.png\" width=480 height=36A0>\n",
    "每个部分由appearance evidence 和 Spatial constraints between a pair of parts组成。\n",
    "### Shape Model\n",
    "compare out spatial model with a standard joint Gaussian model  commonly  used in AAMs and CLMs.     \n",
    "Because the location variables only  appear in linear and quadratic terms, the shape model can be rewritten as:     \n",
    "&emsp;  $ Shape_m(L) = -(L-\\mu_m)^T\\Lambda_m(L-\\mu_m)+constant $  \n",
    "其中$(\\mu, \\Lambda)$类似于高斯的规范和自然参数。corresponds to a shape score that penalizes configurations of L that deform form the ideal shape $\\mu_m$。    \n",
    "\n",
    "## Inference\n",
    "推理对应于在L和m上最大化S(I,L,m), m可能代表对应的mixture.\n",
    "\n",
    "## Learning\n",
    "首先需要建立混合器之间边的结构，这在人体中是很自然的，但是脸部不那么容易。     \n",
    "Concatenating the parametrs into a single vecotor $\\beta$, we can write the score:     \n",
    "&emsp; $S(I,z) = \\beta \\cdot \\Phi(I,z)$&emsp;&esmp;(6)     \n",
    "然后能转化成经典的max_margin的优化形式：    \n",
    "<img src=\"img/max_margin.png\" width=480 height=360>"
   ]
  },
  {
   "cell_type": "markdown",
   "metadata": {},
   "source": [
    "# Articulated pose estimation with flexible mixtures-of-parts\n",
    "## Abstract \n",
    "**A method for human pose estimation in static images based on a novel representation of part models**\n",
    "    * capture orientatoin with a mixture of templates(capturing contextual co-occurrence relations) for each part rather than use articulated limb parts\n",
    "    * then co-occurrence and spatial relations are tree-structured\n",
    "    "
   ]
  }
 ],
 "metadata": {
  "kernelspec": {
   "display_name": "Python 3",
   "language": "python",
   "name": "python3"
  },
  "language_info": {
   "codemirror_mode": {
    "name": "ipython",
    "version": 3
   },
   "file_extension": ".py",
   "mimetype": "text/x-python",
   "name": "python",
   "nbconvert_exporter": "python",
   "pygments_lexer": "ipython3",
   "version": "3.6.5"
  }
 },
 "nbformat": 4,
 "nbformat_minor": 2
}
