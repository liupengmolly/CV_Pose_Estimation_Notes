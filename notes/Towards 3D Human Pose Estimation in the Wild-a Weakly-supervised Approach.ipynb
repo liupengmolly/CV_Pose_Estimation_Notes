{
 "cells": [
  {
   "cell_type": "markdown",
   "metadata": {},
   "source": [
    "发表时间：2017\n",
    "处理对象：图片"
   ]
  },
  {
   "cell_type": "markdown",
   "metadata": {},
   "source": [
    "**现有的大多数3D都是两步：1 预测2D关节点，2从2D关节点预测3D, 那么他们之间的区别是？**     \n",
    "**本片论文不同之处：**      \n",
    "    1. 使用迁移学习的思想，将2D标注数据中的室外信息结合3D室内场景的训练，使其能完成3D室外场景的训练。     \n",
    "    2. 依然使用如上所说的两步，但是将2D、3D的两个步骤合起来，实现完整的端到端的模型\n",
    "    3. 在从2D图像预测3D的数据时，使用几何限制，改进效果。"
   ]
  },
  {
   "cell_type": "markdown",
   "metadata": {},
   "source": [
    "模型结构图如下：\n",
    "      <img src=\"img/wild_transfer.png\" width=560 height=240>\n",
    "模型从左到右是完整的端到端的巡练，输入是2D和3D标注数据的混合，此外关键的设计是depth regression的loss,2D和3D的标注数据由于标签不一样，所以分别设计loss, 3D的由于有深度标签，直接计算L2距离，2D的使用骨架比例约束计算loss，详细公式如下：\n",
    "    <img src=\"img/wild_transfer_loss.png\" width=480 height=240>\n",
    "    <img src=\"img/wild_transfer_2D_loss.png\" width=480 height=240>\n",
    "    "
   ]
  },
  {
   "cell_type": "code",
   "execution_count": null,
   "metadata": {},
   "outputs": [],
   "source": []
  }
 ],
 "metadata": {
  "kernelspec": {
   "display_name": "Python 3",
   "language": "python",
   "name": "python3"
  },
  "language_info": {
   "codemirror_mode": {
    "name": "ipython",
    "version": 3
   },
   "file_extension": ".py",
   "mimetype": "text/x-python",
   "name": "python",
   "nbconvert_exporter": "python",
   "pygments_lexer": "ipython3",
   "version": "3.6.4"
  }
 },
 "nbformat": 4,
 "nbformat_minor": 2
}
