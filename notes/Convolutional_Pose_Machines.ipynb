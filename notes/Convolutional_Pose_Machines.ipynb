{
 "cells": [
  {
   "cell_type": "markdown",
   "metadata": {},
   "source": [
    "# Abstract\n",
    "**Pose Machines provide a sequential prediction framework for learning rich implicit spatial models,this work show a systematic design for how convolutional networks ca be incorporated into the pose machine framework**.   \n",
    "The contribution of this paper is to implicitly model long-range dependencies between variables in structured prediction tasks。achieved this by designing a sequential architecture composed of convolutional networks.    \n",
    "**for vanishing gradients**, wo providing a natural learning objective function that enforce intermediate supervision."
   ]
  },
  {
   "cell_type": "markdown",
   "metadata": {},
   "source": [
    "# Introduction\n",
    "CPM inherit the pose machine (the implicit learning of long-rane dependencies between image and multi-part cues)    \n",
    "At each stage in a CPM, image features and the belief maps produced by the previous stage are used as input.\n",
    "CPM隐式的从局部关系中学习图像的空间模型    \n",
    "In order to capture loong-range interactions between parts, we achieve a large receptive field on both image and the belief maps.\n",
    "CPMs naturally suggest a systematic framework that replenishs gradients and guides the network to produce increasingly accurate belief map by enforcing intermediate supervision periodically through the network.\n",
    "Main Contribution:    \n",
    "1. sequential CNN architectures.\n",
    "2. learning ability for both image features and image-dependent spatial models for structured prediction by a systematic approach.\n",
    "\n",
    "# Method\n",
    "## Pose Machines\n",
    "A pose machine consists of a sequence of multi-class predictors $g_t(\\cdot)$,在每个阶段$t\\in \\{1...T\\}$,$g_t$ 在当前位置z的图片x上提取的特征以及从之前或相邻分类器中的上下文信息的基础上预测每个部分的置信度，例如步骤1产生下列置信值：    \n",
    "&emsp;$g_1(X_z) \\to \\{b_1^p(Y_p = z)\\}_{p\\in \\{0...P\\}}$&emsp; (1)    \n",
    "在接下来步骤中，每个预测的belief来源于两部分（之前提到):     \n",
    "&emsp; $ g_t(X^{\\prime}_z, \\phi_t(z,b_{t-1})) \\to \\{b_t^p(Y_p =z)\\}_{p\\in \\{0...P+1\\}}$&emsp;(3)    \n",
    "The pose machine proposed used boosted random forests for prediction.\n",
    "## Convolutional Pose Machines\n",
    "### Keypoint Localization Using Local Image Evidence\n",
    "从最底层的局部开始获取信息(总共有5层，最后两层为1x1），每个网络可接受的范围为160x160,所以一个网络不能获取全部信息，需要多个输出的组合。\n",
    " <img src=\"img/cpm.png\">\n",
    "### Sequential Prediction with learned Spatial Context Features\n",
    "因为外形和配置上较大的方差， 在运动中的关节识别准确率是很低的，所以依据相邻结构和之前的上下文信息能提高准确率。   \n",
    "**一般获得较大的感受范围能或者较大的准确率**(但是当范围提高到一定程度会饱和)， 为了达到这个效果，我们增加网络的层数。   \n",
    "### Learning in Convolutional Pose Machines\n",
    "为了减少梯度消失问题，每次都会重复训练局部位置上重新训练生成置信映射。    \n",
    "然后在每一个阶段之后设计一个损失函数减小没部分预测的结果和理想置信映射的l2距离.     \n",
    "&emsp; $ f_t = \\sum \\limits_{p=1}^{P+1}\\sum\\limits_{z\\in Z} \\lVert b_t^p(z)  - b_*^p(z) \\rVert_2^2$ &emsp;(4)    \n",
    "**总体的目标函数就是每个阶段的损失相加**，此外，在stage大于等于2的阶段的CNN的参数共享。   \n"
   ]
  },
  {
   "cell_type": "code",
   "execution_count": null,
   "metadata": {},
   "outputs": [],
   "source": []
  }
 ],
 "metadata": {
  "kernelspec": {
   "display_name": "Python 3",
   "language": "python",
   "name": "python3"
  },
  "language_info": {
   "codemirror_mode": {
    "name": "ipython",
    "version": 3
   },
   "file_extension": ".py",
   "mimetype": "text/x-python",
   "name": "python",
   "nbconvert_exporter": "python",
   "pygments_lexer": "ipython3",
   "version": "3.6.5"
  }
 },
 "nbformat": 4,
 "nbformat_minor": 2
}
