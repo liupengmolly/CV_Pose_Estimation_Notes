{
 "cells": [
  {
   "cell_type": "markdown",
   "metadata": {},
   "source": [
    "**场景**：    \n",
    "**计算资源**：    \n",
    "**普遍效果**:    \n",
    "**核心要点**："
   ]
  },
  {
   "cell_type": "markdown",
   "metadata": {},
   "source": [
    "# Abstract   \n",
    "study the task of 3D human pose estimation in the wild. challenged due to the lack of training data.     \n",
    "This article **use a weakly-supervised transfer learning that uses mixed 2D and 3D labels in a unified deep neutral network that presents two-stage cascaded structure**"
   ]
  }
 ],
 "metadata": {
  "kernelspec": {
   "display_name": "Python 3",
   "language": "python",
   "name": "python3"
  },
  "language_info": {
   "codemirror_mode": {
    "name": "ipython",
    "version": 3
   },
   "file_extension": ".py",
   "mimetype": "text/x-python",
   "name": "python",
   "nbconvert_exporter": "python",
   "pygments_lexer": "ipython3",
   "version": "3.6.8"
  }
 },
 "nbformat": 4,
 "nbformat_minor": 2
}
