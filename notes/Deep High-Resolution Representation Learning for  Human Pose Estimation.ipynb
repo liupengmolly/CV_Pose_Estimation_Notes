{
 "cells": [
  {
   "cell_type": "markdown",
   "metadata": {},
   "source": [
    "# Abstract \n",
    "** Most existing methos recover high-resolution representations from low-resolution representations, out proposed network maintains high-resolution representations through the whole process.**    \n",
    "1. start from a high-resolution subnetwork\n",
    "2. gradually add high-to-low resolutio subnetworks to form more stages\n",
    "3. connect the multi-resolution sbnetworks in parallel.\n",
    "4. conduct repreated multi-scale fusions such that each of the high-to-low resolution representations receives information from other parallel representations over and over, leading to rich highresolution representations     \n",
    "# 1. Introduction     \n",
    "High-Resolution Net,Two benifits:    \n",
    "1. connects subnetowrks in parallel than in series.（所以能保持高分辨率的信息，而不需要从低到高的恢复过程）     \n",
    "2. repeted multiscale fusions with the help of the low-resolution representations of the low-resolution of the same depth and similar level, resulting in that high-resolution respresentations are also rich    \n",
    "# 2. Related Work\n",
    "1. Representative network design patterns:    \n",
    "    * Symmetric high-to-low and low-to-high processes(Hourglass)\n",
    "    * Heavy high-to-low and light low-to-high(Cascaded pyramid networks, SimpleBaseline)\n",
    "    * Combination with dilated convolutions. \n",
    "2. Multi-scale fusion    \n",
    "3. INtermediate supervision\n",
    "4. Our approach:    \n",
    "    * maintain high-resolution representations through the whole process\n",
    "    * generate reliable high-resolution representations through repeatedly fusing thre representatoins produced by the high-to-low subnetworks.\n",
    "    * without using intermediate heatmap supervision\n",
    "\n",
    "# 3. Approach\n",
    "to detect the locations of K keypoints or parts, generally transform the problem to estimating K heatmaps of size WxH,$\\{H_1,H_2,...,H_k\\}$, where each heatmap $H_k$ indicate the feature map of the kth keypoint.\n",
    "## 3.1 Structure\n",
    "   ** a stem consisting of two strided convolutions decreasing the resolution **    \n",
    "   ** a main body outputing the feature maps with the same resolution as its input feature maps**      \n",
    "   ** A regressor estimating the heatmaps    \n",
    "   这篇论文重点是将HRNe引入第二步中    \n",
    "## 3.2 Repeated multi-scale fusion    \n",
    "## 3.3 Heatmap estimation      \n",
    "## 3.4 Network instantiation    \n",
    "contains four stages with four parallel subnetworks, \n",
    "The first stage contains 4 residual units where each unit, the same to the ResNet-50, is formed by a bottleneck with the width 64, and is followed by one 3×3 convolution reducing the width of feature maps to C.      \n",
    "The 2nd, 3rd, 4th stages contain 1, 4, 3 exchange blocks, respectively. One exchange block contains 4 residual units where each unit contains two 3 × 3 convolutions in each resolution and an exchange unit across resolutions."
   ]
  },
  {
   "cell_type": "code",
   "execution_count": null,
   "metadata": {},
   "outputs": [],
   "source": []
  }
 ],
 "metadata": {
  "kernelspec": {
   "display_name": "Python 3",
   "language": "python",
   "name": "python3"
  },
  "language_info": {
   "codemirror_mode": {
    "name": "ipython",
    "version": 3
   },
   "file_extension": ".py",
   "mimetype": "text/x-python",
   "name": "python",
   "nbconvert_exporter": "python",
   "pygments_lexer": "ipython3",
   "version": "3.6.5"
  }
 },
 "nbformat": 4,
 "nbformat_minor": 2
}
