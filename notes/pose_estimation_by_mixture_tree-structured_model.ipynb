{
 "cells": [
  {
   "cell_type": "markdown",
   "metadata": {},
   "source": [
    "# Face Detection, Pose Estimation and Landmark localization in the Wild\n",
    "\n",
    "## Abstract\n",
    "** tree-structured models are surprisingly effective at capturing global elastic deformation **\n",
    "## Introduction\n",
    "1. ** Ambiguities due to the unconstrainedd \"in the wild\" imagess **\n",
    "2. 一些传统方法：\n",
    "    * Face Detection: scanning window classifiers,\n",
    "    * Pos Estimation: view-based eigenspace methods\n",
    "    * Faciel landmark estimation: elastic graph models. global spatial models built on top of local part detectors(Known as Constrained Local Models)\n",
    "3. **The model based on a mixture of tree-structured part and max-margin models**  \n",
    "    * define a \"part\" at each facial landmark and use global mixtures to modle topological changes due to viewpoint;\n",
    "    * a part will only be visible in certain mixtrues/views, but different mixtures could share part templates.\n",
    "    * all parameter are trained in a max-margin framework.\n",
    "4. 大部分之前用于标识估计的模型都是densely-connected elastic graphs, 但不好优化，而multi-view trees 是一个好呢好的替代因为:\n",
    "    * 能使用动态规划全局优化\n",
    "    * 能捉取相关的全局弹性结构\n",
    "\n",
    "## Model\n",
    "### Tree Structured part Model\n",
    "<img src=\"img/parts_score.png\" width=480 height=36A0>\n",
    "每个部分由appearance evidence 和 Spatial constraints between a pair of parts组成。\n",
    "### Shape Model\n",
    "compare out spatial model with a standard joint Gaussian model  commonly  used in AAMs and CLMs.     \n",
    "Because the location variables only  appear in linear and quadratic terms, the shape model can be rewritten as:     \n",
    "&emsp;  $ Shape_m(L) = -(L-\\mu_m)^T\\Lambda_m(L-\\mu_m)+constant $  \n",
    "其中$(\\mu, \\Lambda)$类似于高斯的规范和自然参数。corresponds to a shape score that penalizes configurations of L that deform form the ideal shape $\\mu_m$。    \n",
    "\n",
    "## Inference\n",
    "推理对应于在L和m上最大化S(I,L,m), m可能代表对应的mixture.\n",
    "\n",
    "## Learning\n",
    "首先需要建立混合器之间边的结构，这在人体中是很自然的，但是脸部不那么容易。     \n",
    "Concatenating the parametrs into a single vecotor $\\beta$, we can write the score:     \n",
    "&emsp; $S(I,z) = \\beta \\cdot \\Phi(I,z)$&emsp;&esmp;(6)     \n",
    "然后能转化成经典的max_margin的优化形式：    \n",
    "<img src=\"img/max_margin.png\" width=480 height=360>"
   ]
  },
  {
   "cell_type": "markdown",
   "metadata": {},
   "source": [
    "# Articulated pose estimation with flexible mixtures-of-parts\n",
    "## Abstract \n",
    "**A method for human pose estimation in static images based on a novel representation of part models**\n",
    "    * capture orientatoin with a mixture of templates(capturing contextual co-occurrence relations) for each part rather than use articulated limb parts\n",
    "    * then co-occurrence and spatial relations are tree-structured    \n",
    "## Introduction \n",
    "1 **traditoinal models: ** decompose the appearance of objects into local part templates, when parts are parameterized by pixel location and orientation, the resulting structure can model articulation。    \n",
    "this work we introduce a novel unified **representation**\n",
    "2 **representation for articulated pose**: Full body pose estimation is difficult because of many  degrees of freedoms to be estimated, and we introducing a ** novel but simple representation for modeling a family of affinely-wrped templates**, out perform because mixture model s can capture orientation-specific statistics of backgroud features.\n",
    "3 **representation for obejcts**:augment calssic spring models with co-occurrence constraints that favor particular combinations of parts.\n",
    "## Model\n",
    "### Co-occurrence model\n",
    "To score of a configurations of parts, factors into a sum of local an pairwise socres:    \n",
    "&emsp; $S(t) = \\sum \\limits_{i\\in V} b_i^{t_i} +\\sum \\limits_{ij\\in E} b^{t_i,t_j}_{ij}$    \n",
    "the assignment of part i and co-occurrene of part types    \n",
    "then wirte the full socre associated with a configuration of part types and positions:    \n",
    "&emsp;$S(I,p,t) = S(t) + \\sum\\limits_{i\\in}w^{t_i}_{i} \\cdot \\phi(I,p_i)+\\sum \\limits_{ij\\in E} w_{ij}^{t_i,t_j} \\cdot \\psi(p_i-p_j)$&emsp;(2)     \n",
    "    where $phi(I,p_i)$is a feature vector extracted from pixel location, and $psi(p_i-p_j)=[dx\\ dx^2\\ dy\\ dy^2]^T$represent the relative location of part i with respect to j.    the first sum in above equation is **Appearance model**, the first sum is **Deformation model**.     \n",
    "### Special case\n",
    "1. **Semantic part models**:    \n",
    "argue that part appearanes should capture semnatic classes and not visual classes. for example, open eyes may tent to co-occur with smiling mouths    \n",
    "2. **Mixtures of deformable parts**:     \n",
    "define a mixture of models where each model is a star-based pictorial structure(意思是固定不变）, this can achieve by restricting the co-occurrence model to allow for only globally-consistent types:    \n",
    "&emsp; $b_{ij}^{t_i,t_j} = \\begin{cases}0&&if\\ t_i=t_j\\\\-infy&& otherwise\\end{cases}$     \n",
    "3. **Articulation**:\n",
    "explore a simplified version of (2) with a reduced set of springs。    \n",
    "\n",
    "## Inference\n",
    "inference corresponds to maximizeing S(x,p,t) from (2) over p and t, when the relational graph G = (V,E) is a tree, this can be done efficiently with dynamic programing, we compute the message part i passes to its parent j by the following:    \n",
    "&emsp; $socre_i(t_i,p_i) = b_i^{t_i} +w_{t_i}^i \\cdot \\phi(I,p_i) + \\sum\\limits_{k\\in kids(i)} m_j(t_i,p_i)$&emsp;(6)     \n",
    "&emsp;$m_i(t_j,p_j) = \\max \\limits_{t_i} b_{ij}^{ti,tj} + \\max \\limits_{p_i} socre(t_i,p_i) +w_{ij}^{t_i,t_j}\\cdot \\psi(p_j-p_j)$&emsp;(7)    \n",
    "(6) computes the local socre of part i, (7) computes for every ocation an possible type of part j, the best socrenig location an dtype of its child part i.    \n",
    "## Learing \n",
    "<img src=\"img/learnig_function.png\">"
   ]
  },
  {
   "cell_type": "markdown",
   "metadata": {},
   "source": [
    "# 总结和问题：\n",
    "**总结为对单点的建模和两点之间关系的建模，然后利用树结构，同时建模时注意方向的获取**\n",
    "*对上述两篇论文的疑问为树结构的输入是怎样的，是怎么确定的,此外，模型用的什么训练方法*"
   ]
  }
 ],
 "metadata": {
  "kernelspec": {
   "display_name": "Python 3",
   "language": "python",
   "name": "python3"
  },
  "language_info": {
   "codemirror_mode": {
    "name": "ipython",
    "version": 3
   },
   "file_extension": ".py",
   "mimetype": "text/x-python",
   "name": "python",
   "nbconvert_exporter": "python",
   "pygments_lexer": "ipython3",
   "version": "3.6.5"
  }
 },
 "nbformat": 4,
 "nbformat_minor": 2
}
